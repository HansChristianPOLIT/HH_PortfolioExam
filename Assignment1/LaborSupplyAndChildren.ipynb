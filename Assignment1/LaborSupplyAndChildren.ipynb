{
 "cells": [
  {
   "cell_type": "markdown",
   "metadata": {},
   "source": [
    "# Life-Cycle Labor Supply with Children\n",
    "### By Hans Christian Jul Lehmann"
   ]
  },
  {
   "cell_type": "markdown",
   "metadata": {},
   "source": [
    "## Table of Contents:\n",
    "* [Exercise 1: Event-Study Graph](#first-bullet)\n",
    "    - [1A: Handheld Calibration](#firstA-bullet)\n",
    "    - [1B: Structural Estimation](#firstB-bullet)\n",
    "* [Exercise 2: Marshallian Elasticity](#second-bullet)\n",
    "    - [Life Cycle Behavior](#secondA-bullet) \n",
    "    - [Marshallian Elasticities](#secondB-bullet) \n",
    "* [Exercise 3: Introducing a Spouse](#third-bullet)\n",
    "* [Exercise 4: Introducing Childcare Costs](#fourth-bullet)\n",
    "* [Exercise 6: Stochastic Fertility](#sixth-bullet)\n",
    "    - [Life Cycle Behavior](#sixthA-bullet) \n",
    "    - [Marshallian Elasticities](#sixthB-bullet) "
   ]
  },
  {
   "cell_type": "markdown",
   "metadata": {},
   "source": [
    "# Setup"
   ]
  },
  {
   "cell_type": "code",
   "execution_count": 1,
   "metadata": {},
   "outputs": [],
   "source": [
    "%load_ext autoreload\n",
    "%autoreload 2\n",
    "\n",
    "import numpy as np\n",
    "import numba as nb\n",
    "\n",
    "import matplotlib.pyplot as plt\n",
    "from mpl_toolkits import mplot3d\n",
    "from scipy.optimize import minimize\n",
    "from scipy import optimize\n",
    "\n",
    "# load local model file\n",
    "from DynLaborFertModel import DynLaborFertModelClass"
   ]
  },
  {
   "cell_type": "markdown",
   "metadata": {},
   "source": [
    "# Exercise 1: Event-Study Graph <a class=\"anchor\" id=\"first-bullet\"></a>"
   ]
  },
  {
   "cell_type": "markdown",
   "metadata": {},
   "source": [
    "## 1.A: Handheld Calibration <a class=\"anchor\" id=\"firstA-bullet\"></a>"
   ]
  },
  {
   "cell_type": "code",
   "execution_count": 2,
   "metadata": {},
   "outputs": [],
   "source": [
    "model = DynLaborFertModelClass(par={'spouse_rand':0.0,'theta':0.0,'y':0.0})"
   ]
  },
  {
   "cell_type": "code",
   "execution_count": 3,
   "metadata": {},
   "outputs": [],
   "source": [
    "### initialize model class\n",
    "model = DynLaborFertModelClass() \n",
    "model_bridge = DynLaborFertModelClass(par={'spouse_rand':0.0,'theta':0.0,'y':0.0,'beta_1':0.051})\n",
    "model_true = DynLaborFertModelClass(par={'spouse_rand':0.0,'theta':0.0,'y':0.0,'beta_1':0.053})"
   ]
  },
  {
   "cell_type": "code",
   "execution_count": null,
   "metadata": {},
   "outputs": [],
   "source": [
    "models = [model, model_bridge, model_true]\n",
    "# simulate and solve the instances for different values of beta_1\n",
    "for model in models:\n",
    "    model.solve()\n",
    "    model.simulate()"
   ]
  },
  {
   "cell_type": "code",
   "execution_count": null,
   "metadata": {},
   "outputs": [],
   "source": [
    "# import local file\n",
    "from DynLaborFertModel import event_study_graph"
   ]
  },
  {
   "cell_type": "code",
   "execution_count": null,
   "metadata": {},
   "outputs": [],
   "source": [
    "# create a list of beta_1 values for the legend\n",
    "beta_1_values = [model.par.beta_1 for model in models]\n",
    "\n",
    "# create the subplots\n",
    "fig, axs = plt.subplots(1, 3, figsize=(20, 5))\n",
    "\n",
    "# plot the Hours graph (Subplot 1)\n",
    "for model in models:\n",
    "    axs[0].scatter(range(10), np.mean(getattr(model.sim, 'h'), axis=0), label=r'$\\beta_1$'+'='+str(model.par.beta_1))\n",
    "    axs[0].legend(frameon=True)\n",
    "    axs[0].set(xlabel='Age', ylabel='Avg. h')\n",
    "    axs[0].set_title('(A): Average Hours over Life Cycle')\n",
    "axs[0].grid()\n",
    "\n",
    "    \n",
    "# Event-Study Graph (Subplot 2)\n",
    "for model in models:\n",
    "    model.simulate()\n",
    "    axs[1] = event_study_graph(model, ax=axs[1])\n",
    "axs[1].set(ylim=(-10, 1), yticks=range(-12, 3, 2), xlabel='Time', ylabel='Hours worked (% change)')\n",
    "axs[1].set_title('(B): Event Study: Hours Worked')\n",
    "axs[1].grid()\n",
    "\n",
    "\n",
    "# For Selected Cohorts (Subplot 3)\n",
    "axs[2].set_xlabel('Age')\n",
    "axs[2].plot(range(1, model_true.par.simT+1), model_true.sim.h[I].mean(axis=0), label='No child')\n",
    "\n",
    "for year in range(1, model_true.par.simT+1, 4):\n",
    "    axs[2].plot(range(1, model_true.par.simT+1), model_true.sim.h[birthyear == year].mean(axis=0), label=f'Birth in year {year+1}')\n",
    "\n",
    "axs[2].set_ylabel('Avg. h')\n",
    "axs[2].grid()\n",
    "axs[2].legend()\n",
    "axs[2].set_title('(C): Labor Supply for '+r'$\\beta_1=0.053$'+ ' for Selected Cohorts')\n",
    "\n",
    "# adjust spacing between subplots and save the figure\n",
    "plt.subplots_adjust(wspace=0.2)\n",
    "\n",
    "if not os.path.exists(\"../plots\"):\n",
    "        os.makedirs(\"../plots\")\n",
    "    \n",
    "plt.savefig(\"../plots/Handheldcalibration.pdf\", bbox_inches='tight')\n",
    "plt.show()"
   ]
  },
  {
   "cell_type": "markdown",
   "metadata": {},
   "source": [
    "## 1.B: Structural Estimation <a class=\"anchor\" id=\"firstB-bullet\"></a>"
   ]
  },
  {
   "cell_type": "markdown",
   "metadata": {},
   "source": [
    "Here, I perform a mock experiment of structural estimation by finding the $\\beta_1$-value which minimizes the distance between the model prediction and the data moment. I will use a 10 percent drop in mean labor hours supplied the year of a birth as the data moment. "
   ]
  },
  {
   "cell_type": "code",
   "execution_count": null,
   "metadata": {},
   "outputs": [],
   "source": [
    "result = optimize.minimize(model.structural_est, x0=np.array([0.055]), method='Nelder-Mead', bounds = [(0.05, 0.06)], tol=1e-15)\n",
    "\n",
    "# return \"true\" beta_1 value\n",
    "true_beta_1 = result.x[0]\n",
    "\n",
    "print(\"True beta_1 value:\", true_beta_1)"
   ]
  },
  {
   "cell_type": "markdown",
   "metadata": {},
   "source": [
    "# Exercise 2: Marshallian Elasticity <a class=\"anchor\" id=\"second-bullet\"></a>"
   ]
  },
  {
   "cell_type": "markdown",
   "metadata": {},
   "source": [
    "## Life Cycle Behavior <a class=\"anchor\" id=\"secondA-bullet\"></a>"
   ]
  },
  {
   "cell_type": "code",
   "execution_count": 40,
   "metadata": {},
   "outputs": [
    {
     "ename": "KeyboardInterrupt",
     "evalue": "",
     "output_type": "error",
     "traceback": [
      "\u001b[0;31m---------------------------------------------------------------------------\u001b[0m",
      "\u001b[0;31mKeyboardInterrupt\u001b[0m                         Traceback (most recent call last)",
      "Input \u001b[0;32mIn [40]\u001b[0m, in \u001b[0;36m<cell line: 2>\u001b[0;34m()\u001b[0m\n\u001b[1;32m      1\u001b[0m model \u001b[38;5;241m=\u001b[39m DynLaborFertModelClass(par\u001b[38;5;241m=\u001b[39m{\u001b[38;5;124m'\u001b[39m\u001b[38;5;124mbeta_1\u001b[39m\u001b[38;5;124m'\u001b[39m:\u001b[38;5;241m0.053\u001b[39m}) \n\u001b[0;32m----> 2\u001b[0m \u001b[43mmodel\u001b[49m\u001b[38;5;241;43m.\u001b[39;49m\u001b[43msolve\u001b[49m\u001b[43m(\u001b[49m\u001b[43m)\u001b[49m\n",
      "File \u001b[0;32m~/Documents/GitHub/HH_PortfolioExam/Assignment1/DynLaborFertModel.py:154\u001b[0m, in \u001b[0;36mDynLaborFertModelClass.solve\u001b[0;34m(self)\u001b[0m\n\u001b[1;32m    151\u001b[0m hours_min \u001b[38;5;241m=\u001b[39m np\u001b[38;5;241m.\u001b[39mmaximum(hours_min,\u001b[38;5;241m2.0\u001b[39m)\n\u001b[1;32m    152\u001b[0m init_h \u001b[38;5;241m=\u001b[39m np\u001b[38;5;241m.\u001b[39marray([hours_min]) \u001b[38;5;28;01mif\u001b[39;00m i_a\u001b[38;5;241m==\u001b[39m\u001b[38;5;241m0\u001b[39m \u001b[38;5;28;01melse\u001b[39;00m np\u001b[38;5;241m.\u001b[39marray([sol\u001b[38;5;241m.\u001b[39mh[t,i_s,i_n,i_a\u001b[38;5;241m-\u001b[39m\u001b[38;5;241m1\u001b[39m,i_k]]) \u001b[38;5;66;03m# initial guess on optimal hours\u001b[39;00m\n\u001b[0;32m--> 154\u001b[0m res \u001b[38;5;241m=\u001b[39m \u001b[43mminimize\u001b[49m\u001b[43m(\u001b[49m\u001b[43mobj\u001b[49m\u001b[43m,\u001b[49m\u001b[43minit_h\u001b[49m\u001b[43m,\u001b[49m\u001b[43mbounds\u001b[49m\u001b[38;5;241;43m=\u001b[39;49m\u001b[43m(\u001b[49m\u001b[43m(\u001b[49m\u001b[38;5;241;43m0.0\u001b[39;49m\u001b[43m,\u001b[49m\u001b[43mnp\u001b[49m\u001b[38;5;241;43m.\u001b[39;49m\u001b[43minf\u001b[49m\u001b[43m)\u001b[49m\u001b[43m,\u001b[49m\u001b[43m)\u001b[49m\u001b[43m,\u001b[49m\u001b[43mconstraints\u001b[49m\u001b[38;5;241;43m=\u001b[39;49m\u001b[43mnlc\u001b[49m\u001b[43m,\u001b[49m\u001b[43mmethod\u001b[49m\u001b[38;5;241;43m=\u001b[39;49m\u001b[38;5;124;43m'\u001b[39;49m\u001b[38;5;124;43mtrust-constr\u001b[39;49m\u001b[38;5;124;43m'\u001b[39;49m\u001b[43m)\u001b[49m\n\u001b[1;32m    156\u001b[0m \u001b[38;5;66;03m# store results\u001b[39;00m\n\u001b[1;32m    157\u001b[0m sol\u001b[38;5;241m.\u001b[39mc[idx] \u001b[38;5;241m=\u001b[39m \u001b[38;5;28mself\u001b[39m\u001b[38;5;241m.\u001b[39mcons_last(res\u001b[38;5;241m.\u001b[39mx[\u001b[38;5;241m0\u001b[39m],assets,capital,kids,spouse,t)\n",
      "File \u001b[0;32m~/opt/anaconda3/lib/python3.9/site-packages/scipy/optimize/_minimize.py:634\u001b[0m, in \u001b[0;36mminimize\u001b[0;34m(fun, x0, args, method, jac, hess, hessp, bounds, constraints, tol, callback, options)\u001b[0m\n\u001b[1;32m    631\u001b[0m     \u001b[38;5;28;01mreturn\u001b[39;00m _minimize_slsqp(fun, x0, args, jac, bounds,\n\u001b[1;32m    632\u001b[0m                            constraints, callback\u001b[38;5;241m=\u001b[39mcallback, \u001b[38;5;241m*\u001b[39m\u001b[38;5;241m*\u001b[39moptions)\n\u001b[1;32m    633\u001b[0m \u001b[38;5;28;01melif\u001b[39;00m meth \u001b[38;5;241m==\u001b[39m \u001b[38;5;124m'\u001b[39m\u001b[38;5;124mtrust-constr\u001b[39m\u001b[38;5;124m'\u001b[39m:\n\u001b[0;32m--> 634\u001b[0m     \u001b[38;5;28;01mreturn\u001b[39;00m \u001b[43m_minimize_trustregion_constr\u001b[49m\u001b[43m(\u001b[49m\u001b[43mfun\u001b[49m\u001b[43m,\u001b[49m\u001b[43m \u001b[49m\u001b[43mx0\u001b[49m\u001b[43m,\u001b[49m\u001b[43m \u001b[49m\u001b[43margs\u001b[49m\u001b[43m,\u001b[49m\u001b[43m \u001b[49m\u001b[43mjac\u001b[49m\u001b[43m,\u001b[49m\u001b[43m \u001b[49m\u001b[43mhess\u001b[49m\u001b[43m,\u001b[49m\u001b[43m \u001b[49m\u001b[43mhessp\u001b[49m\u001b[43m,\u001b[49m\n\u001b[1;32m    635\u001b[0m \u001b[43m                                        \u001b[49m\u001b[43mbounds\u001b[49m\u001b[43m,\u001b[49m\u001b[43m \u001b[49m\u001b[43mconstraints\u001b[49m\u001b[43m,\u001b[49m\n\u001b[1;32m    636\u001b[0m \u001b[43m                                        \u001b[49m\u001b[43mcallback\u001b[49m\u001b[38;5;241;43m=\u001b[39;49m\u001b[43mcallback\u001b[49m\u001b[43m,\u001b[49m\u001b[43m \u001b[49m\u001b[38;5;241;43m*\u001b[39;49m\u001b[38;5;241;43m*\u001b[39;49m\u001b[43moptions\u001b[49m\u001b[43m)\u001b[49m\n\u001b[1;32m    637\u001b[0m \u001b[38;5;28;01melif\u001b[39;00m meth \u001b[38;5;241m==\u001b[39m \u001b[38;5;124m'\u001b[39m\u001b[38;5;124mdogleg\u001b[39m\u001b[38;5;124m'\u001b[39m:\n\u001b[1;32m    638\u001b[0m     \u001b[38;5;28;01mreturn\u001b[39;00m _minimize_dogleg(fun, x0, args, jac, hess,\n\u001b[1;32m    639\u001b[0m                             callback\u001b[38;5;241m=\u001b[39mcallback, \u001b[38;5;241m*\u001b[39m\u001b[38;5;241m*\u001b[39moptions)\n",
      "File \u001b[0;32m~/opt/anaconda3/lib/python3.9/site-packages/scipy/optimize/_trustregion_constr/minimize_trustregion_constr.py:509\u001b[0m, in \u001b[0;36m_minimize_trustregion_constr\u001b[0;34m(fun, x0, args, grad, hess, hessp, bounds, constraints, xtol, gtol, barrier_tol, sparse_jacobian, callback, maxiter, verbose, finite_diff_rel_step, initial_constr_penalty, initial_tr_radius, initial_barrier_parameter, initial_barrier_tolerance, factorization_method, disp)\u001b[0m\n\u001b[1;32m    500\u001b[0m     _, result \u001b[38;5;241m=\u001b[39m equality_constrained_sqp(\n\u001b[1;32m    501\u001b[0m         fun_and_constr, grad_and_jac, lagrangian_hess,\n\u001b[1;32m    502\u001b[0m         x0, objective\u001b[38;5;241m.\u001b[39mf, objective\u001b[38;5;241m.\u001b[39mg,\n\u001b[0;32m   (...)\u001b[0m\n\u001b[1;32m    505\u001b[0m         initial_constr_penalty, initial_tr_radius,\n\u001b[1;32m    506\u001b[0m         factorization_method)\n\u001b[1;32m    508\u001b[0m \u001b[38;5;28;01melif\u001b[39;00m method \u001b[38;5;241m==\u001b[39m \u001b[38;5;124m'\u001b[39m\u001b[38;5;124mtr_interior_point\u001b[39m\u001b[38;5;124m'\u001b[39m:\n\u001b[0;32m--> 509\u001b[0m     _, result \u001b[38;5;241m=\u001b[39m \u001b[43mtr_interior_point\u001b[49m\u001b[43m(\u001b[49m\n\u001b[1;32m    510\u001b[0m \u001b[43m        \u001b[49m\u001b[43mobjective\u001b[49m\u001b[38;5;241;43m.\u001b[39;49m\u001b[43mfun\u001b[49m\u001b[43m,\u001b[49m\u001b[43m \u001b[49m\u001b[43mobjective\u001b[49m\u001b[38;5;241;43m.\u001b[39;49m\u001b[43mgrad\u001b[49m\u001b[43m,\u001b[49m\u001b[43m \u001b[49m\u001b[43mlagrangian_hess\u001b[49m\u001b[43m,\u001b[49m\n\u001b[1;32m    511\u001b[0m \u001b[43m        \u001b[49m\u001b[43mn_vars\u001b[49m\u001b[43m,\u001b[49m\u001b[43m \u001b[49m\u001b[43mcanonical\u001b[49m\u001b[38;5;241;43m.\u001b[39;49m\u001b[43mn_ineq\u001b[49m\u001b[43m,\u001b[49m\u001b[43m \u001b[49m\u001b[43mcanonical\u001b[49m\u001b[38;5;241;43m.\u001b[39;49m\u001b[43mn_eq\u001b[49m\u001b[43m,\u001b[49m\n\u001b[1;32m    512\u001b[0m \u001b[43m        \u001b[49m\u001b[43mcanonical\u001b[49m\u001b[38;5;241;43m.\u001b[39;49m\u001b[43mfun\u001b[49m\u001b[43m,\u001b[49m\u001b[43m \u001b[49m\u001b[43mcanonical\u001b[49m\u001b[38;5;241;43m.\u001b[39;49m\u001b[43mjac\u001b[49m\u001b[43m,\u001b[49m\n\u001b[1;32m    513\u001b[0m \u001b[43m        \u001b[49m\u001b[43mx0\u001b[49m\u001b[43m,\u001b[49m\u001b[43m \u001b[49m\u001b[43mobjective\u001b[49m\u001b[38;5;241;43m.\u001b[39;49m\u001b[43mf\u001b[49m\u001b[43m,\u001b[49m\u001b[43m \u001b[49m\u001b[43mobjective\u001b[49m\u001b[38;5;241;43m.\u001b[39;49m\u001b[43mg\u001b[49m\u001b[43m,\u001b[49m\n\u001b[1;32m    514\u001b[0m \u001b[43m        \u001b[49m\u001b[43mc_ineq0\u001b[49m\u001b[43m,\u001b[49m\u001b[43m \u001b[49m\u001b[43mJ_ineq0\u001b[49m\u001b[43m,\u001b[49m\u001b[43m \u001b[49m\u001b[43mc_eq0\u001b[49m\u001b[43m,\u001b[49m\u001b[43m \u001b[49m\u001b[43mJ_eq0\u001b[49m\u001b[43m,\u001b[49m\n\u001b[1;32m    515\u001b[0m \u001b[43m        \u001b[49m\u001b[43mstop_criteria\u001b[49m\u001b[43m,\u001b[49m\n\u001b[1;32m    516\u001b[0m \u001b[43m        \u001b[49m\u001b[43mcanonical\u001b[49m\u001b[38;5;241;43m.\u001b[39;49m\u001b[43mkeep_feasible\u001b[49m\u001b[43m,\u001b[49m\n\u001b[1;32m    517\u001b[0m \u001b[43m        \u001b[49m\u001b[43mxtol\u001b[49m\u001b[43m,\u001b[49m\u001b[43m \u001b[49m\u001b[43mstate\u001b[49m\u001b[43m,\u001b[49m\u001b[43m \u001b[49m\u001b[43minitial_barrier_parameter\u001b[49m\u001b[43m,\u001b[49m\n\u001b[1;32m    518\u001b[0m \u001b[43m        \u001b[49m\u001b[43minitial_barrier_tolerance\u001b[49m\u001b[43m,\u001b[49m\n\u001b[1;32m    519\u001b[0m \u001b[43m        \u001b[49m\u001b[43minitial_constr_penalty\u001b[49m\u001b[43m,\u001b[49m\u001b[43m \u001b[49m\u001b[43minitial_tr_radius\u001b[49m\u001b[43m,\u001b[49m\n\u001b[1;32m    520\u001b[0m \u001b[43m        \u001b[49m\u001b[43mfactorization_method\u001b[49m\u001b[43m)\u001b[49m\n\u001b[1;32m    522\u001b[0m \u001b[38;5;66;03m# Status 3 occurs when the callback function requests termination,\u001b[39;00m\n\u001b[1;32m    523\u001b[0m \u001b[38;5;66;03m# this is assumed to not be a success.\u001b[39;00m\n\u001b[1;32m    524\u001b[0m result\u001b[38;5;241m.\u001b[39msuccess \u001b[38;5;241m=\u001b[39m \u001b[38;5;28;01mTrue\u001b[39;00m \u001b[38;5;28;01mif\u001b[39;00m result\u001b[38;5;241m.\u001b[39mstatus \u001b[38;5;129;01min\u001b[39;00m (\u001b[38;5;241m1\u001b[39m, \u001b[38;5;241m2\u001b[39m) \u001b[38;5;28;01melse\u001b[39;00m \u001b[38;5;28;01mFalse\u001b[39;00m\n",
      "File \u001b[0;32m~/opt/anaconda3/lib/python3.9/site-packages/scipy/optimize/_trustregion_constr/tr_interior_point.py:321\u001b[0m, in \u001b[0;36mtr_interior_point\u001b[0;34m(fun, grad, lagr_hess, n_vars, n_ineq, n_eq, constr, jac, x0, fun0, grad0, constr_ineq0, jac_ineq0, constr_eq0, jac_eq0, stop_criteria, enforce_feasibility, xtol, state, initial_barrier_parameter, initial_tolerance, initial_penalty, initial_trust_radius, factorization_method)\u001b[0m\n\u001b[1;32m    318\u001b[0m \u001b[38;5;66;03m# Solves a sequence of barrier problems\u001b[39;00m\n\u001b[1;32m    319\u001b[0m \u001b[38;5;28;01mwhile\u001b[39;00m \u001b[38;5;28;01mTrue\u001b[39;00m:\n\u001b[1;32m    320\u001b[0m     \u001b[38;5;66;03m# Solve SQP subproblem\u001b[39;00m\n\u001b[0;32m--> 321\u001b[0m     z, state \u001b[38;5;241m=\u001b[39m \u001b[43mequality_constrained_sqp\u001b[49m\u001b[43m(\u001b[49m\n\u001b[1;32m    322\u001b[0m \u001b[43m        \u001b[49m\u001b[43msubprob\u001b[49m\u001b[38;5;241;43m.\u001b[39;49m\u001b[43mfunction_and_constraints\u001b[49m\u001b[43m,\u001b[49m\n\u001b[1;32m    323\u001b[0m \u001b[43m        \u001b[49m\u001b[43msubprob\u001b[49m\u001b[38;5;241;43m.\u001b[39;49m\u001b[43mgradient_and_jacobian\u001b[49m\u001b[43m,\u001b[49m\n\u001b[1;32m    324\u001b[0m \u001b[43m        \u001b[49m\u001b[43msubprob\u001b[49m\u001b[38;5;241;43m.\u001b[39;49m\u001b[43mlagrangian_hessian\u001b[49m\u001b[43m,\u001b[49m\n\u001b[1;32m    325\u001b[0m \u001b[43m        \u001b[49m\u001b[43mz\u001b[49m\u001b[43m,\u001b[49m\u001b[43m \u001b[49m\u001b[43mfun0_subprob\u001b[49m\u001b[43m,\u001b[49m\u001b[43m \u001b[49m\u001b[43mgrad0_subprob\u001b[49m\u001b[43m,\u001b[49m\n\u001b[1;32m    326\u001b[0m \u001b[43m        \u001b[49m\u001b[43mconstr0_subprob\u001b[49m\u001b[43m,\u001b[49m\u001b[43m \u001b[49m\u001b[43mjac0_subprob\u001b[49m\u001b[43m,\u001b[49m\u001b[43m \u001b[49m\u001b[43msubprob\u001b[49m\u001b[38;5;241;43m.\u001b[39;49m\u001b[43mstop_criteria\u001b[49m\u001b[43m,\u001b[49m\n\u001b[1;32m    327\u001b[0m \u001b[43m        \u001b[49m\u001b[43mstate\u001b[49m\u001b[43m,\u001b[49m\u001b[43m \u001b[49m\u001b[43minitial_penalty\u001b[49m\u001b[43m,\u001b[49m\u001b[43m \u001b[49m\u001b[43mtrust_radius\u001b[49m\u001b[43m,\u001b[49m\n\u001b[1;32m    328\u001b[0m \u001b[43m        \u001b[49m\u001b[43mfactorization_method\u001b[49m\u001b[43m,\u001b[49m\u001b[43m \u001b[49m\u001b[43mtrust_lb\u001b[49m\u001b[43m,\u001b[49m\u001b[43m \u001b[49m\u001b[43mtrust_ub\u001b[49m\u001b[43m,\u001b[49m\u001b[43m \u001b[49m\u001b[43msubprob\u001b[49m\u001b[38;5;241;43m.\u001b[39;49m\u001b[43mscaling\u001b[49m\u001b[43m)\u001b[49m\n\u001b[1;32m    329\u001b[0m     \u001b[38;5;28;01mif\u001b[39;00m subprob\u001b[38;5;241m.\u001b[39mterminate:\n\u001b[1;32m    330\u001b[0m         \u001b[38;5;28;01mbreak\u001b[39;00m\n",
      "File \u001b[0;32m~/opt/anaconda3/lib/python3.9/site-packages/scipy/optimize/_trustregion_constr/equality_constrained_sqp.py:203\u001b[0m, in \u001b[0;36mequality_constrained_sqp\u001b[0;34m(fun_and_constr, grad_and_jac, lagr_hess, x0, fun0, grad0, constr0, jac0, stop_criteria, state, initial_penalty, initial_trust_radius, factorization_method, trust_lb, trust_ub, scaling)\u001b[0m\n\u001b[1;32m    201\u001b[0m S \u001b[38;5;241m=\u001b[39m scaling(x)\n\u001b[1;32m    202\u001b[0m \u001b[38;5;66;03m# Get projections\u001b[39;00m\n\u001b[0;32m--> 203\u001b[0m Z, LS, Y \u001b[38;5;241m=\u001b[39m \u001b[43mprojections\u001b[49m\u001b[43m(\u001b[49m\u001b[43mA\u001b[49m\u001b[43m,\u001b[49m\u001b[43m \u001b[49m\u001b[43mfactorization_method\u001b[49m\u001b[43m)\u001b[49m\n\u001b[1;32m    204\u001b[0m \u001b[38;5;66;03m# Compute least-square lagrange multipliers\u001b[39;00m\n\u001b[1;32m    205\u001b[0m v \u001b[38;5;241m=\u001b[39m \u001b[38;5;241m-\u001b[39mLS\u001b[38;5;241m.\u001b[39mdot(c)\n",
      "File \u001b[0;32m~/opt/anaconda3/lib/python3.9/site-packages/scipy/optimize/_trustregion_constr/projections.py:401\u001b[0m, in \u001b[0;36mprojections\u001b[0;34m(A, method, orth_tol, max_refin, tol)\u001b[0m\n\u001b[1;32m    397\u001b[0m \u001b[38;5;28;01melif\u001b[39;00m method \u001b[38;5;241m==\u001b[39m \u001b[38;5;124m\"\u001b[39m\u001b[38;5;124mSVDFactorization\u001b[39m\u001b[38;5;124m\"\u001b[39m:\n\u001b[1;32m    398\u001b[0m     null_space, least_squares, row_space \\\n\u001b[1;32m    399\u001b[0m         \u001b[38;5;241m=\u001b[39m svd_factorization_projections(A, m, n, orth_tol, max_refin, tol)\n\u001b[0;32m--> 401\u001b[0m Z \u001b[38;5;241m=\u001b[39m \u001b[43mLinearOperator\u001b[49m\u001b[43m(\u001b[49m\u001b[43m(\u001b[49m\u001b[43mn\u001b[49m\u001b[43m,\u001b[49m\u001b[43m \u001b[49m\u001b[43mn\u001b[49m\u001b[43m)\u001b[49m\u001b[43m,\u001b[49m\u001b[43m \u001b[49m\u001b[43mnull_space\u001b[49m\u001b[43m)\u001b[49m\n\u001b[1;32m    402\u001b[0m LS \u001b[38;5;241m=\u001b[39m LinearOperator((m, n), least_squares)\n\u001b[1;32m    403\u001b[0m Y \u001b[38;5;241m=\u001b[39m LinearOperator((n, m), row_space)\n",
      "File \u001b[0;32m~/opt/anaconda3/lib/python3.9/site-packages/scipy/sparse/linalg/interface.py:521\u001b[0m, in \u001b[0;36m_CustomLinearOperator.__init__\u001b[0;34m(self, shape, matvec, rmatvec, matmat, dtype, rmatmat)\u001b[0m\n\u001b[1;32m    518\u001b[0m \u001b[38;5;28mself\u001b[39m\u001b[38;5;241m.\u001b[39m__rmatmat_impl \u001b[38;5;241m=\u001b[39m rmatmat\n\u001b[1;32m    519\u001b[0m \u001b[38;5;28mself\u001b[39m\u001b[38;5;241m.\u001b[39m__matmat_impl \u001b[38;5;241m=\u001b[39m matmat\n\u001b[0;32m--> 521\u001b[0m \u001b[38;5;28;43mself\u001b[39;49m\u001b[38;5;241;43m.\u001b[39;49m\u001b[43m_init_dtype\u001b[49m\u001b[43m(\u001b[49m\u001b[43m)\u001b[49m\n",
      "File \u001b[0;32m~/opt/anaconda3/lib/python3.9/site-packages/scipy/sparse/linalg/interface.py:178\u001b[0m, in \u001b[0;36mLinearOperator._init_dtype\u001b[0;34m(self)\u001b[0m\n\u001b[1;32m    176\u001b[0m \u001b[38;5;28;01mif\u001b[39;00m \u001b[38;5;28mself\u001b[39m\u001b[38;5;241m.\u001b[39mdtype \u001b[38;5;129;01mis\u001b[39;00m \u001b[38;5;28;01mNone\u001b[39;00m:\n\u001b[1;32m    177\u001b[0m     v \u001b[38;5;241m=\u001b[39m np\u001b[38;5;241m.\u001b[39mzeros(\u001b[38;5;28mself\u001b[39m\u001b[38;5;241m.\u001b[39mshape[\u001b[38;5;241m-\u001b[39m\u001b[38;5;241m1\u001b[39m])\n\u001b[0;32m--> 178\u001b[0m     \u001b[38;5;28mself\u001b[39m\u001b[38;5;241m.\u001b[39mdtype \u001b[38;5;241m=\u001b[39m np\u001b[38;5;241m.\u001b[39masarray(\u001b[38;5;28;43mself\u001b[39;49m\u001b[38;5;241;43m.\u001b[39;49m\u001b[43mmatvec\u001b[49m\u001b[43m(\u001b[49m\u001b[43mv\u001b[49m\u001b[43m)\u001b[49m)\u001b[38;5;241m.\u001b[39mdtype\n",
      "File \u001b[0;32m~/opt/anaconda3/lib/python3.9/site-packages/scipy/sparse/linalg/interface.py:232\u001b[0m, in \u001b[0;36mLinearOperator.matvec\u001b[0;34m(self, x)\u001b[0m\n\u001b[1;32m    229\u001b[0m \u001b[38;5;28;01mif\u001b[39;00m x\u001b[38;5;241m.\u001b[39mshape \u001b[38;5;241m!=\u001b[39m (N,) \u001b[38;5;129;01mand\u001b[39;00m x\u001b[38;5;241m.\u001b[39mshape \u001b[38;5;241m!=\u001b[39m (N,\u001b[38;5;241m1\u001b[39m):\n\u001b[1;32m    230\u001b[0m     \u001b[38;5;28;01mraise\u001b[39;00m \u001b[38;5;167;01mValueError\u001b[39;00m(\u001b[38;5;124m'\u001b[39m\u001b[38;5;124mdimension mismatch\u001b[39m\u001b[38;5;124m'\u001b[39m)\n\u001b[0;32m--> 232\u001b[0m y \u001b[38;5;241m=\u001b[39m \u001b[38;5;28;43mself\u001b[39;49m\u001b[38;5;241;43m.\u001b[39;49m\u001b[43m_matvec\u001b[49m\u001b[43m(\u001b[49m\u001b[43mx\u001b[49m\u001b[43m)\u001b[49m\n\u001b[1;32m    234\u001b[0m \u001b[38;5;28;01mif\u001b[39;00m \u001b[38;5;28misinstance\u001b[39m(x, np\u001b[38;5;241m.\u001b[39mmatrix):\n\u001b[1;32m    235\u001b[0m     y \u001b[38;5;241m=\u001b[39m asmatrix(y)\n",
      "File \u001b[0;32m~/opt/anaconda3/lib/python3.9/site-packages/scipy/sparse/linalg/interface.py:530\u001b[0m, in \u001b[0;36m_CustomLinearOperator._matvec\u001b[0;34m(self, x)\u001b[0m\n\u001b[1;32m    529\u001b[0m \u001b[38;5;28;01mdef\u001b[39;00m \u001b[38;5;21m_matvec\u001b[39m(\u001b[38;5;28mself\u001b[39m, x):\n\u001b[0;32m--> 530\u001b[0m     \u001b[38;5;28;01mreturn\u001b[39;00m \u001b[38;5;28;43mself\u001b[39;49m\u001b[38;5;241;43m.\u001b[39;49m\u001b[43m__matvec_impl\u001b[49m\u001b[43m(\u001b[49m\u001b[43mx\u001b[49m\u001b[43m)\u001b[49m\n",
      "File \u001b[0;32m~/opt/anaconda3/lib/python3.9/site-packages/scipy/optimize/_trustregion_constr/projections.py:192\u001b[0m, in \u001b[0;36mqr_factorization_projections.<locals>.null_space\u001b[0;34m(x)\u001b[0m\n\u001b[1;32m    189\u001b[0m \u001b[38;5;28;01mdef\u001b[39;00m \u001b[38;5;21mnull_space\u001b[39m(x):\n\u001b[1;32m    190\u001b[0m     \u001b[38;5;66;03m# v = P inv(R) Q.T x\u001b[39;00m\n\u001b[1;32m    191\u001b[0m     aux1 \u001b[38;5;241m=\u001b[39m Q\u001b[38;5;241m.\u001b[39mT\u001b[38;5;241m.\u001b[39mdot(x)\n\u001b[0;32m--> 192\u001b[0m     aux2 \u001b[38;5;241m=\u001b[39m \u001b[43mscipy\u001b[49m\u001b[38;5;241;43m.\u001b[39;49m\u001b[43mlinalg\u001b[49m\u001b[38;5;241;43m.\u001b[39;49m\u001b[43msolve_triangular\u001b[49m\u001b[43m(\u001b[49m\u001b[43mR\u001b[49m\u001b[43m,\u001b[49m\u001b[43m \u001b[49m\u001b[43maux1\u001b[49m\u001b[43m,\u001b[49m\u001b[43m \u001b[49m\u001b[43mlower\u001b[49m\u001b[38;5;241;43m=\u001b[39;49m\u001b[38;5;28;43;01mFalse\u001b[39;49;00m\u001b[43m)\u001b[49m\n\u001b[1;32m    193\u001b[0m     v \u001b[38;5;241m=\u001b[39m np\u001b[38;5;241m.\u001b[39mzeros(m)\n\u001b[1;32m    194\u001b[0m     v[P] \u001b[38;5;241m=\u001b[39m aux2\n",
      "File \u001b[0;32m~/opt/anaconda3/lib/python3.9/site-packages/scipy/linalg/basic.py:339\u001b[0m, in \u001b[0;36msolve_triangular\u001b[0;34m(a, b, trans, lower, unit_diagonal, overwrite_b, debug, check_finite)\u001b[0m\n\u001b[1;32m    334\u001b[0m     warn(\u001b[38;5;124m'\u001b[39m\u001b[38;5;124mUse of the \u001b[39m\u001b[38;5;124m\"\u001b[39m\u001b[38;5;124mdebug\u001b[39m\u001b[38;5;124m\"\u001b[39m\u001b[38;5;124m keyword is deprecated \u001b[39m\u001b[38;5;124m'\u001b[39m\n\u001b[1;32m    335\u001b[0m          \u001b[38;5;124m'\u001b[39m\u001b[38;5;124mand this keyword will be removed in the future \u001b[39m\u001b[38;5;124m'\u001b[39m\n\u001b[1;32m    336\u001b[0m          \u001b[38;5;124m'\u001b[39m\u001b[38;5;124mversions of SciPy.\u001b[39m\u001b[38;5;124m'\u001b[39m, \u001b[38;5;167;01mDeprecationWarning\u001b[39;00m, stacklevel\u001b[38;5;241m=\u001b[39m\u001b[38;5;241m2\u001b[39m)\n\u001b[1;32m    338\u001b[0m a1 \u001b[38;5;241m=\u001b[39m _asarray_validated(a, check_finite\u001b[38;5;241m=\u001b[39mcheck_finite)\n\u001b[0;32m--> 339\u001b[0m b1 \u001b[38;5;241m=\u001b[39m \u001b[43m_asarray_validated\u001b[49m\u001b[43m(\u001b[49m\u001b[43mb\u001b[49m\u001b[43m,\u001b[49m\u001b[43m \u001b[49m\u001b[43mcheck_finite\u001b[49m\u001b[38;5;241;43m=\u001b[39;49m\u001b[43mcheck_finite\u001b[49m\u001b[43m)\u001b[49m\n\u001b[1;32m    340\u001b[0m \u001b[38;5;28;01mif\u001b[39;00m \u001b[38;5;28mlen\u001b[39m(a1\u001b[38;5;241m.\u001b[39mshape) \u001b[38;5;241m!=\u001b[39m \u001b[38;5;241m2\u001b[39m \u001b[38;5;129;01mor\u001b[39;00m a1\u001b[38;5;241m.\u001b[39mshape[\u001b[38;5;241m0\u001b[39m] \u001b[38;5;241m!=\u001b[39m a1\u001b[38;5;241m.\u001b[39mshape[\u001b[38;5;241m1\u001b[39m]:\n\u001b[1;32m    341\u001b[0m     \u001b[38;5;28;01mraise\u001b[39;00m \u001b[38;5;167;01mValueError\u001b[39;00m(\u001b[38;5;124m'\u001b[39m\u001b[38;5;124mexpected square matrix\u001b[39m\u001b[38;5;124m'\u001b[39m)\n",
      "File \u001b[0;32m~/opt/anaconda3/lib/python3.9/site-packages/scipy/_lib/_util.py:293\u001b[0m, in \u001b[0;36m_asarray_validated\u001b[0;34m(a, check_finite, sparse_ok, objects_ok, mask_ok, as_inexact)\u001b[0m\n\u001b[1;32m    291\u001b[0m         \u001b[38;5;28;01mraise\u001b[39;00m \u001b[38;5;167;01mValueError\u001b[39;00m(\u001b[38;5;124m'\u001b[39m\u001b[38;5;124mmasked arrays are not supported\u001b[39m\u001b[38;5;124m'\u001b[39m)\n\u001b[1;32m    292\u001b[0m toarray \u001b[38;5;241m=\u001b[39m np\u001b[38;5;241m.\u001b[39masarray_chkfinite \u001b[38;5;28;01mif\u001b[39;00m check_finite \u001b[38;5;28;01melse\u001b[39;00m np\u001b[38;5;241m.\u001b[39masarray\n\u001b[0;32m--> 293\u001b[0m a \u001b[38;5;241m=\u001b[39m \u001b[43mtoarray\u001b[49m\u001b[43m(\u001b[49m\u001b[43ma\u001b[49m\u001b[43m)\u001b[49m\n\u001b[1;32m    294\u001b[0m \u001b[38;5;28;01mif\u001b[39;00m \u001b[38;5;129;01mnot\u001b[39;00m objects_ok:\n\u001b[1;32m    295\u001b[0m     \u001b[38;5;28;01mif\u001b[39;00m a\u001b[38;5;241m.\u001b[39mdtype \u001b[38;5;129;01mis\u001b[39;00m np\u001b[38;5;241m.\u001b[39mdtype(\u001b[38;5;124m'\u001b[39m\u001b[38;5;124mO\u001b[39m\u001b[38;5;124m'\u001b[39m):\n",
      "File \u001b[0;32m~/opt/anaconda3/lib/python3.9/site-packages/numpy/lib/function_base.py:602\u001b[0m, in \u001b[0;36masarray_chkfinite\u001b[0;34m(a, dtype, order)\u001b[0m\n\u001b[1;32m    539\u001b[0m \u001b[38;5;124;03m\"\"\"Convert the input to an array, checking for NaNs or Infs.\u001b[39;00m\n\u001b[1;32m    540\u001b[0m \n\u001b[1;32m    541\u001b[0m \u001b[38;5;124;03mParameters\u001b[39;00m\n\u001b[0;32m   (...)\u001b[0m\n\u001b[1;32m    599\u001b[0m \n\u001b[1;32m    600\u001b[0m \u001b[38;5;124;03m\"\"\"\u001b[39;00m\n\u001b[1;32m    601\u001b[0m a \u001b[38;5;241m=\u001b[39m asarray(a, dtype\u001b[38;5;241m=\u001b[39mdtype, order\u001b[38;5;241m=\u001b[39morder)\n\u001b[0;32m--> 602\u001b[0m \u001b[38;5;28;01mif\u001b[39;00m a\u001b[38;5;241m.\u001b[39mdtype\u001b[38;5;241m.\u001b[39mchar \u001b[38;5;129;01min\u001b[39;00m typecodes[\u001b[38;5;124m'\u001b[39m\u001b[38;5;124mAllFloat\u001b[39m\u001b[38;5;124m'\u001b[39m] \u001b[38;5;129;01mand\u001b[39;00m \u001b[38;5;129;01mnot\u001b[39;00m \u001b[43mnp\u001b[49m\u001b[38;5;241;43m.\u001b[39;49m\u001b[43misfinite\u001b[49m\u001b[43m(\u001b[49m\u001b[43ma\u001b[49m\u001b[43m)\u001b[49m\u001b[38;5;241m.\u001b[39mall():\n\u001b[1;32m    603\u001b[0m     \u001b[38;5;28;01mraise\u001b[39;00m \u001b[38;5;167;01mValueError\u001b[39;00m(\n\u001b[1;32m    604\u001b[0m         \u001b[38;5;124m\"\u001b[39m\u001b[38;5;124marray must not contain infs or NaNs\u001b[39m\u001b[38;5;124m\"\u001b[39m)\n\u001b[1;32m    605\u001b[0m \u001b[38;5;28;01mreturn\u001b[39;00m a\n",
      "\u001b[0;31mKeyboardInterrupt\u001b[0m: "
     ]
    }
   ],
   "source": [
    "model = DynLaborFertModelClass(par={'beta_1':0.053}) \n",
    "model.solve()"
   ]
  },
  {
   "cell_type": "code",
   "execution_count": 39,
   "metadata": {},
   "outputs": [
    {
     "ename": "NameError",
     "evalue": "name 'unconditional' is not defined",
     "output_type": "error",
     "traceback": [
      "\u001b[0;31m---------------------------------------------------------------------------\u001b[0m",
      "\u001b[0;31mNameError\u001b[0m                                 Traceback (most recent call last)",
      "Input \u001b[0;32mIn [39]\u001b[0m, in \u001b[0;36m<cell line: 23>\u001b[0;34m()\u001b[0m\n\u001b[1;32m     22\u001b[0m \u001b[38;5;66;03m# Iterate over the keys of the dictionary, which correspond to the variables of interest\u001b[39;00m\n\u001b[1;32m     23\u001b[0m \u001b[38;5;28;01mfor\u001b[39;00m var \u001b[38;5;129;01min\u001b[39;00m (\u001b[38;5;124m'\u001b[39m\u001b[38;5;124mc\u001b[39m\u001b[38;5;124m'\u001b[39m, \u001b[38;5;124m'\u001b[39m\u001b[38;5;124ma\u001b[39m\u001b[38;5;124m'\u001b[39m, \u001b[38;5;124m'\u001b[39m\u001b[38;5;124mh\u001b[39m\u001b[38;5;124m'\u001b[39m, \u001b[38;5;124m'\u001b[39m\u001b[38;5;124mn\u001b[39m\u001b[38;5;124m'\u001b[39m):\n\u001b[1;32m     24\u001b[0m     \u001b[38;5;66;03m# Calculate the mean of the variable of interest under each condition\u001b[39;00m\n\u001b[0;32m---> 25\u001b[0m     \u001b[38;5;28;01mfor\u001b[39;00m condition, label \u001b[38;5;129;01min\u001b[39;00m \u001b[38;5;28mzip\u001b[39m((\u001b[43munconditional\u001b[49m, with_child, without_child), (\u001b[38;5;124m'\u001b[39m\u001b[38;5;124mTotal population\u001b[39m\u001b[38;5;124m'\u001b[39m, \u001b[38;5;124m'\u001b[39m\u001b[38;5;124mHave child\u001b[39m\u001b[38;5;124m'\u001b[39m, \u001b[38;5;124m'\u001b[39m\u001b[38;5;124mHave no child\u001b[39m\u001b[38;5;124m'\u001b[39m)):\n\u001b[1;32m     26\u001b[0m         mean_values \u001b[38;5;241m=\u001b[39m np\u001b[38;5;241m.\u001b[39mnanmean(np\u001b[38;5;241m.\u001b[39mwhere(condition, \u001b[38;5;28mgetattr\u001b[39m(sim, var), np\u001b[38;5;241m.\u001b[39mnan), axis\u001b[38;5;241m=\u001b[39m\u001b[38;5;241m0\u001b[39m)\n\u001b[1;32m     27\u001b[0m         \u001b[38;5;66;03m# Plot the mean values\u001b[39;00m\n",
      "\u001b[0;31mNameError\u001b[0m: name 'unconditional' is not defined"
     ]
    },
    {
     "data": {
      "image/png": "[encoded data removed]",
      "text/plain": [
       "<Figure size 1080x720 with 4 Axes>"
      ]
     },
     "metadata": {
      "needs_background": "light"
     },
     "output_type": "display_data"
    }
   ],
   "source": [
    "# Unpack parameters and simulation results\n",
    "par = model.par\n",
    "sim = model.sim\n",
    "\n",
    "# Define conditions\n",
    "Total_population = np.ones(sim.n.shape, dtype=bool)\n",
    "with_child = np.column_stack((np.zeros(sim.n.shape[0]), sim.n[:, 1:] > 0))\n",
    "no_child = sim.n == 0\n",
    "\n",
    "# Initialize a dictionary to store the axes for each plot\n",
    "ax = {}\n",
    "\n",
    "# Set up a 2x2 grid of subplots with a larger figure size\n",
    "fig, ((ax['c'], ax['a']), (ax['h'], ax['n'])) = plt.subplots(2, 2, figsize=(15,10))\n",
    "\n",
    "# Assign titles for each variable\n",
    "titles = {'c': 'Consumption', 'a': 'Savings', 'h': 'Hours Worked', 'n': 'Number of Children'}\n",
    "\n",
    "# Assign panel letters for each variable\n",
    "panel_letters = {'c': 'A', 'a': 'B', 'h': 'C', 'n': 'D'}\n",
    "\n",
    "# Iterate over the keys of the dictionary, which correspond to the variables of interest\n",
    "for var in ('c', 'a', 'h', 'n'):\n",
    "    # Calculate the mean of the variable of interest under each condition\n",
    "    for condition, label in zip((unconditional, with_child, without_child), ('Total population', 'Have child', 'Have no child')):\n",
    "        mean_values = np.nanmean(np.where(condition, getattr(sim, var), np.nan), axis=0)\n",
    "        # Plot the mean values\n",
    "        ax[var].scatter(range(par.simT), mean_values, label=label)\n",
    "\n",
    "    # Set up the labels and ticks of the x-axis and y-axis\n",
    "    ax[var].set(xlabel='Age', ylabel=f'Avg. {var}', xticks=range(par.simT))\n",
    "    \n",
    "    # Set the title for the subplot with the corresponding panel letter\n",
    "    ax[var].set_title(f'({panel_letters[var]}): Average {titles[var]}')\n",
    "\n",
    "    # If we are plotting consumption, add a legend to the plot\n",
    "    if var == 'c':\n",
    "        ax[var].legend()\n",
    "\n",
    "# Ensure a clean layout\n",
    "\n",
    "fig.tight_layout()\n",
    "\n",
    "if not os.path.exists(\"../plots\"):\n",
    "        os.makedirs(\"../plots\")\n",
    "    \n",
    "plt.savefig(\"../plots/LifeCycleBaseline.pdf\", bbox_inches='tight')\n",
    "plt.show()"
   ]
  },
  {
   "cell_type": "markdown",
   "metadata": {},
   "source": [
    "## Marshallian Elasticities <a class=\"anchor\" id=\"secondB-bullet\"></a>"
   ]
  },
  {
   "cell_type": "markdown",
   "metadata": {},
   "source": [
    "**Plot Marshallian Elasticity**"
   ]
  },
  {
   "cell_type": "code",
   "execution_count": 301,
   "metadata": {},
   "outputs": [],
   "source": [
    "# import local file\n",
    "from DynLaborFertModel import simulate_marshallian_elasticity"
   ]
  },
  {
   "cell_type": "code",
   "execution_count": null,
   "metadata": {},
   "outputs": [],
   "source": [
    "model_1pct, ela_total, ela_child, ela_no_child = simulate_marshallian_elasticity(model, 1.01)"
   ]
  },
  {
   "cell_type": "code",
   "execution_count": 276,
   "metadata": {},
   "outputs": [
    {
     "ename": "ValueError",
     "evalue": "x and y must be the same size",
     "output_type": "error",
     "traceback": [
      "\u001b[0;31m---------------------------------------------------------------------------\u001b[0m",
      "\u001b[0;31mValueError\u001b[0m                                Traceback (most recent call last)",
      "Input \u001b[0;32mIn [276]\u001b[0m, in \u001b[0;36m<cell line: 6>\u001b[0;34m()\u001b[0m\n\u001b[1;32m      4\u001b[0m ax \u001b[38;5;241m=\u001b[39m fig\u001b[38;5;241m.\u001b[39madd_subplot(\u001b[38;5;241m3\u001b[39m, \u001b[38;5;241m3\u001b[39m, \u001b[38;5;241m1\u001b[39m)\n\u001b[1;32m      5\u001b[0m ax\u001b[38;5;241m.\u001b[39mscatter(\u001b[38;5;28mrange\u001b[39m(model_1pct\u001b[38;5;241m.\u001b[39mpar\u001b[38;5;241m.\u001b[39msimT),np\u001b[38;5;241m.\u001b[39mmean(ela_Mi,axis\u001b[38;5;241m=\u001b[39m\u001b[38;5;241m0\u001b[39m),label\u001b[38;5;241m=\u001b[39m\u001b[38;5;124m'\u001b[39m\u001b[38;5;124mTotal poulation\u001b[39m\u001b[38;5;124m'\u001b[39m) \n\u001b[0;32m----> 6\u001b[0m \u001b[43max\u001b[49m\u001b[38;5;241;43m.\u001b[39;49m\u001b[43mscatter\u001b[49m\u001b[43m(\u001b[49m\u001b[38;5;28;43mrange\u001b[39;49m\u001b[43m(\u001b[49m\u001b[43mmodel_1pct\u001b[49m\u001b[38;5;241;43m.\u001b[39;49m\u001b[43mpar\u001b[49m\u001b[38;5;241;43m.\u001b[39;49m\u001b[43msimT\u001b[49m\u001b[43m)\u001b[49m\u001b[43m,\u001b[49m\u001b[43mnp\u001b[49m\u001b[38;5;241;43m.\u001b[39;49m\u001b[43mmean\u001b[49m\u001b[43m(\u001b[49m\u001b[43mela_child\u001b[49m\u001b[43m,\u001b[49m\u001b[43maxis\u001b[49m\u001b[38;5;241;43m=\u001b[39;49m\u001b[38;5;241;43m0\u001b[39;49m\u001b[43m)\u001b[49m\u001b[43m,\u001b[49m\u001b[43mlabel\u001b[49m\u001b[38;5;241;43m=\u001b[39;49m\u001b[38;5;124;43m'\u001b[39;49m\u001b[38;5;124;43mHave child\u001b[39;49m\u001b[38;5;124;43m'\u001b[39;49m\u001b[43m)\u001b[49m \n\u001b[1;32m      7\u001b[0m ax\u001b[38;5;241m.\u001b[39mscatter(\u001b[38;5;28mrange\u001b[39m(model_1pct\u001b[38;5;241m.\u001b[39mpar\u001b[38;5;241m.\u001b[39msimT),np\u001b[38;5;241m.\u001b[39mmean(ela_no_child,axis\u001b[38;5;241m=\u001b[39m\u001b[38;5;241m0\u001b[39m),label\u001b[38;5;241m=\u001b[39m\u001b[38;5;124m'\u001b[39m\u001b[38;5;124mHave no child\u001b[39m\u001b[38;5;124m'\u001b[39m) \n\u001b[1;32m      8\u001b[0m ax\u001b[38;5;241m.\u001b[39mset(xlabel\u001b[38;5;241m=\u001b[39m\u001b[38;5;124m'\u001b[39m\u001b[38;5;124mAge\u001b[39m\u001b[38;5;124m'\u001b[39m,ylabel\u001b[38;5;241m=\u001b[39m\u001b[38;5;124m'\u001b[39m\u001b[38;5;124m$e_\u001b[39m\u001b[38;5;124m{\u001b[39m\u001b[38;5;124mM,t}$\u001b[39m\u001b[38;5;124m'\u001b[39m,xticks\u001b[38;5;241m=\u001b[39m\u001b[38;5;28mrange\u001b[39m(model\u001b[38;5;241m.\u001b[39mpar\u001b[38;5;241m.\u001b[39msimT))\n",
      "File \u001b[0;32m~/opt/anaconda3/lib/python3.9/site-packages/matplotlib/__init__.py:1412\u001b[0m, in \u001b[0;36m_preprocess_data.<locals>.inner\u001b[0;34m(ax, data, *args, **kwargs)\u001b[0m\n\u001b[1;32m   1409\u001b[0m \u001b[38;5;129m@functools\u001b[39m\u001b[38;5;241m.\u001b[39mwraps(func)\n\u001b[1;32m   1410\u001b[0m \u001b[38;5;28;01mdef\u001b[39;00m \u001b[38;5;21minner\u001b[39m(ax, \u001b[38;5;241m*\u001b[39margs, data\u001b[38;5;241m=\u001b[39m\u001b[38;5;28;01mNone\u001b[39;00m, \u001b[38;5;241m*\u001b[39m\u001b[38;5;241m*\u001b[39mkwargs):\n\u001b[1;32m   1411\u001b[0m     \u001b[38;5;28;01mif\u001b[39;00m data \u001b[38;5;129;01mis\u001b[39;00m \u001b[38;5;28;01mNone\u001b[39;00m:\n\u001b[0;32m-> 1412\u001b[0m         \u001b[38;5;28;01mreturn\u001b[39;00m \u001b[43mfunc\u001b[49m\u001b[43m(\u001b[49m\u001b[43max\u001b[49m\u001b[43m,\u001b[49m\u001b[43m \u001b[49m\u001b[38;5;241;43m*\u001b[39;49m\u001b[38;5;28;43mmap\u001b[39;49m\u001b[43m(\u001b[49m\u001b[43msanitize_sequence\u001b[49m\u001b[43m,\u001b[49m\u001b[43m \u001b[49m\u001b[43margs\u001b[49m\u001b[43m)\u001b[49m\u001b[43m,\u001b[49m\u001b[43m \u001b[49m\u001b[38;5;241;43m*\u001b[39;49m\u001b[38;5;241;43m*\u001b[39;49m\u001b[43mkwargs\u001b[49m\u001b[43m)\u001b[49m\n\u001b[1;32m   1414\u001b[0m     bound \u001b[38;5;241m=\u001b[39m new_sig\u001b[38;5;241m.\u001b[39mbind(ax, \u001b[38;5;241m*\u001b[39margs, \u001b[38;5;241m*\u001b[39m\u001b[38;5;241m*\u001b[39mkwargs)\n\u001b[1;32m   1415\u001b[0m     auto_label \u001b[38;5;241m=\u001b[39m (bound\u001b[38;5;241m.\u001b[39marguments\u001b[38;5;241m.\u001b[39mget(label_namer)\n\u001b[1;32m   1416\u001b[0m                   \u001b[38;5;129;01mor\u001b[39;00m bound\u001b[38;5;241m.\u001b[39mkwargs\u001b[38;5;241m.\u001b[39mget(label_namer))\n",
      "File \u001b[0;32m~/opt/anaconda3/lib/python3.9/site-packages/matplotlib/axes/_axes.py:4369\u001b[0m, in \u001b[0;36mAxes.scatter\u001b[0;34m(self, x, y, s, c, marker, cmap, norm, vmin, vmax, alpha, linewidths, edgecolors, plotnonfinite, **kwargs)\u001b[0m\n\u001b[1;32m   4367\u001b[0m y \u001b[38;5;241m=\u001b[39m np\u001b[38;5;241m.\u001b[39mma\u001b[38;5;241m.\u001b[39mravel(y)\n\u001b[1;32m   4368\u001b[0m \u001b[38;5;28;01mif\u001b[39;00m x\u001b[38;5;241m.\u001b[39msize \u001b[38;5;241m!=\u001b[39m y\u001b[38;5;241m.\u001b[39msize:\n\u001b[0;32m-> 4369\u001b[0m     \u001b[38;5;28;01mraise\u001b[39;00m \u001b[38;5;167;01mValueError\u001b[39;00m(\u001b[38;5;124m\"\u001b[39m\u001b[38;5;124mx and y must be the same size\u001b[39m\u001b[38;5;124m\"\u001b[39m)\n\u001b[1;32m   4371\u001b[0m \u001b[38;5;28;01mif\u001b[39;00m s \u001b[38;5;129;01mis\u001b[39;00m \u001b[38;5;28;01mNone\u001b[39;00m:\n\u001b[1;32m   4372\u001b[0m     s \u001b[38;5;241m=\u001b[39m (\u001b[38;5;241m20\u001b[39m \u001b[38;5;28;01mif\u001b[39;00m rcParams[\u001b[38;5;124m'\u001b[39m\u001b[38;5;124m_internal.classic_mode\u001b[39m\u001b[38;5;124m'\u001b[39m] \u001b[38;5;28;01melse\u001b[39;00m\n\u001b[1;32m   4373\u001b[0m          rcParams[\u001b[38;5;124m'\u001b[39m\u001b[38;5;124mlines.markersize\u001b[39m\u001b[38;5;124m'\u001b[39m] \u001b[38;5;241m*\u001b[39m\u001b[38;5;241m*\u001b[39m \u001b[38;5;241m2.0\u001b[39m)\n",
      "\u001b[0;31mValueError\u001b[0m: x and y must be the same size"
     ]
    },
    {
     "data": {
      "image/png": "[encoded data removed]",
      "text/plain": [
       "<Figure size 1296x864 with 1 Axes>"
      ]
     },
     "metadata": {
      "needs_background": "light"
     },
     "output_type": "display_data"
    }
   ],
   "source": [
    "fig = plt.figure(figsize=(3*6, 3*6/1.5))\n",
    "\n",
    "# plot Marshallian elasticity as a function of age for childless people in all periods\n",
    "ax = fig.add_subplot(3, 3, 1)\n",
    "ax.scatter(range(model_1pct.par.simT),np.mean(ela_total,axis=0),label='Total poulation') \n",
    "ax.scatter(range(1,model_1pct.par.simT),np.mean(ela_child,axis=0),label='Have child') # do not plot first period since no births occur\n",
    "ax.scatter(range(model_1pct.par.simT),np.mean(ela_no_child,axis=0),label='Have no child') \n",
    "ax.set(xlabel='Age',ylabel='$e_{M,t}$',xticks=range(model.par.simT))\n",
    "ax.legend(frameon=True);\n",
    "\n",
    "# layout \n",
    "fig.tight_layout(pad=1); # spacing between subplots\n",
    "\n",
    "if not os.path.exists(\"../plots\"):\n",
    "        os.makedirs(\"../plots\")\n",
    "    \n",
    "plt.savefig(\"../plots/ElasticityBaseline.pdf\", bbox_inches='tight')\n",
    "plt.show()"
   ]
  },
  {
   "cell_type": "markdown",
   "metadata": {},
   "source": [
    "# Exercise 3: Introducing a Spouse <a class=\"anchor\" id=\"third-bullet\"></a>"
   ]
  },
  {
   "cell_type": "markdown",
   "metadata": {},
   "source": [
    "I introduce a spouse that contributes with the age-dependent wage process $(0.1+0.01\\cdot t)$."
   ]
  },
  {
   "cell_type": "code",
   "execution_count": 34,
   "metadata": {},
   "outputs": [],
   "source": [
    "model_spouse = DynLaborFertModelClass(par={'spouse_rand':0.0,'theta':0.0,'beta_1':0.053,'y':1.0})"
   ]
  },
  {
   "cell_type": "markdown",
   "metadata": {},
   "source": [
    "Compute Marshallian elasticity:"
   ]
  },
  {
   "cell_type": "code",
   "execution_count": null,
   "metadata": {},
   "outputs": [],
   "source": [
    "model_1pct_spouse, ela_total_spouse, ela_child_spouse, ela_no_child_spouse = simulate_marshallian_elasticity(model_spouse, 1.01)"
   ]
  },
  {
   "cell_type": "markdown",
   "metadata": {},
   "source": [
    "Explore and compare simulated behavior in the presence and not in the presence of a spouse: "
   ]
  },
  {
   "cell_type": "code",
   "execution_count": null,
   "metadata": {},
   "outputs": [],
   "source": [
    "# create a figure with 4 subplots\n",
    "fig, axs = plt.subplots(nrows=2, ncols=2, figsize=(12, 8))\n",
    "\n",
    "# plot behavior\n",
    "for var, ax in zip(('c', 'a', 'h'), axs.flatten()[:3]):\n",
    "    ax.scatter(range(model.par.simT), np.mean(getattr(model.sim, var), axis=0), label='No spouse')\n",
    "    ax.scatter(range(model_spouse.par.simT), np.mean(getattr(model_spouse.sim, var), axis=0), label='Spouse')\n",
    "    ax.set(xlabel='period, t', ylabel=f'Avg. {var}', xticks=range(10))\n",
    "\n",
    "    # add subplot title\n",
    "    if var == 'c':\n",
    "        ax.set_title('(A): Avg. Consumption')\n",
    "        ax[var].legend()\n",
    "    elif var == 'a':\n",
    "        ax.set_title('(B): Avg. Assets')\n",
    "    elif var == 'h':\n",
    "        ax.set_title('(C): Labor Supply (Intensive Margin)')\n",
    "\n",
    "# plot Marshallian elasticity as a function of age\n",
    "ax = axs.flatten()[3]\n",
    "ax.scatter(range(model.par.simT), np.mean(ela_total, axis=0), label='No spouse')\n",
    "ax.scatter(range(model_spouse.par.simT), np.mean(ela_total_spouse, axis=0), label='Spouse')\n",
    "ax.set(xlabel='period, t', ylabel='$e_{M,t}$', xticks=range(model_spouse.par.simT))\n",
    "ax.set_title('(D): Marshallian Elasticity')f\n",
    "\n",
    "# layout\n",
    "fig.tight_layout(pad=1)  # spacing between subplots\n",
    "\n",
    "if not os.path.exists(\"../plots\"):\n",
    "        os.makedirs(\"../plots\")\n",
    "    \n",
    "plt.savefig(\"../plots/SpouseLifeCycle.pdf\", bbox_inches='tight')\n",
    "plt.show()"
   ]
  },
  {
   "cell_type": "markdown",
   "metadata": {},
   "source": [
    "# Exercise 4: Introducing Childcare Costs <a class=\"anchor\" id=\"fourth-bullet\"></a>"
   ]
  },
  {
   "cell_type": "markdown",
   "metadata": {},
   "source": [
    "I introduce a childcare cost $\\theta \\cdot 0.05$."
   ]
  },
  {
   "cell_type": "code",
   "execution_count": null,
   "metadata": {},
   "outputs": [],
   "source": [
    "model_spouse_childcarecost = DynLaborFertModelClass(par={'spouse_rand':0.0,'beta_1':0.053,'theta':0.05,'y':1.0})"
   ]
  },
  {
   "cell_type": "markdown",
   "metadata": {},
   "source": [
    "Compute Marshallian elasticity:"
   ]
  },
  {
   "cell_type": "code",
   "execution_count": null,
   "metadata": {},
   "outputs": [],
   "source": [
    "model_1pct_spouse_childcarecost, ela_total_spouse_childcarecost, ela_child_spouse_childcarecost, ela_no_child_spouse_childcarecost = simulate_marshallian_elasticity(model_spouse_childcarecost, 1.01)"
   ]
  },
  {
   "cell_type": "markdown",
   "metadata": {},
   "source": [
    "Explore and compare simulated behavior with and without childcare costs: "
   ]
  },
  {
   "cell_type": "code",
   "execution_count": null,
   "metadata": {},
   "outputs": [],
   "source": [
    "# create a figure with 4 subplots\n",
    "fig, axs = plt.subplots(nrows=2, ncols=2, figsize=(12, 8))\n",
    "\n",
    "# plot behavior\n",
    "for var, ax in zip(('c', 'a', 'h'), axs.flatten()[:3]):\n",
    "    ax.scatter(range(model.par.simT), np.mean(getattr(model.sim, var), axis=0), label='No spouse')\n",
    "    ax.scatter(range(model_spouse.par.simT), np.mean(getattr(model_spouse.sim, var), axis=0), label='Spouse')\n",
    "    ax.scatter(range(model_spouse_childcarecost.par.simT), np.mean(getattr(model_spouse_childcarecost.sim, var), axis=0), label='Spouse and childcare costs')\n",
    "    ax.set(xlabel='period, t', ylabel=f'Avg. {var}', xticks=range(10))\n",
    "\n",
    "    # add subplot title\n",
    "    if var == 'c':\n",
    "        ax.set_title('(A): Avg. Consumption')\n",
    "        ax.legend()\n",
    "    elif var == 'a':\n",
    "        ax.set_title('(B): Avg. Assets')\n",
    "    elif var == 'h':\n",
    "        ax.set_title('(C): Labor Supply (Intensive Margin)')\n",
    "\n",
    "# plot Marshallian elasticity as a function of age\n",
    "ax = axs.flatten()[3]\n",
    "ax.scatter(range(model.par.simT), np.mean(ela_total, axis=0), label='No spouse')\n",
    "ax.scatter(range(model_spouse.par.simT), np.mean(ela_total_spouse, axis=0), label='Spouse')\n",
    "ax.scatter(range(model_spouse_childcarecost.par.simT), np.mean(ela_total_spouse_childcarecost, axis=0), label='Spouse')\n",
    "ax.set(xlabel='period, t', ylabel='$e_{M,t}$', xticks=range(model_spouse.par.simT))\n",
    "ax.set_title('(D): Marshallian Elasticity')f\n",
    "\n",
    "# layout\n",
    "fig.tight_layout(pad=1)  # spacing between subplots\n",
    "\n",
    "if not os.path.exists(\"../plots\"):\n",
    "        os.makedirs(\"../plots\")\n",
    "    \n",
    "plt.savefig(\"../plots/SpouseandCCCLifeCycle.pdf\", bbox_inches='tight')\n",
    "plt.show()"
   ]
  },
  {
   "cell_type": "markdown",
   "metadata": {},
   "source": [
    "# Exercise 6: Stochastic Fertility <a class=\"anchor\" id=\"sixth-bullet\"></a>"
   ]
  },
  {
   "cell_type": "markdown",
   "metadata": {},
   "source": [
    "Lastly, I extend the model with a state variable $s_{t} \\in \\{0,1\\}$ where likelihood of spouse being $p_{s}=0.8$. Furthermore, let the arrival of children depend on presence of spouse in a given period."
   ]
  },
  {
   "cell_type": "code",
   "execution_count": 36,
   "metadata": {},
   "outputs": [],
   "source": [
    "model_spouse_rand = DynLaborFertModelClass(par={'spouse_rand':1.0,'theta':0.05,'beta_1':0.053,'y':1.0,'p_spouse':0.8})"
   ]
  },
  {
   "cell_type": "markdown",
   "metadata": {},
   "source": [
    "Compute Marshallian elasticity:"
   ]
  },
  {
   "cell_type": "code",
   "execution_count": null,
   "metadata": {},
   "outputs": [],
   "source": [
    "model_1pct_spouse_rand, ela_total_spouse_rand, ela_child_spouse_rand, ela_no_child_spouse_rand = simulate_marshallian_elasticity(model_spouse_rand, 1.01)"
   ]
  },
  {
   "cell_type": "markdown",
   "metadata": {},
   "source": [
    "## Life Cycle Behavior <a class=\"anchor\" id=\"sixthA-bullet\"></a>"
   ]
  },
  {
   "cell_type": "markdown",
   "metadata": {},
   "source": [
    "Explore and compare simulated behavior with a deterministic or stochastic presence of spouse:"
   ]
  },
  {
   "cell_type": "code",
   "execution_count": null,
   "metadata": {},
   "outputs": [],
   "source": [
    "# create a figure with 4 subplots\n",
    "fig, axs = plt.subplots(nrows=2, ncols=2, figsize=(12, 8))\n",
    "\n",
    "# plot behavior\n",
    "for var, ax in zip(('c', 'a', 'h','n'), axs.flatten()):\n",
    "    ax.scatter(range(model.par.simT), np.mean(getattr(model.sim, var), axis=0), label='No spouse')\n",
    "    ax.scatter(range(model_spouse.par.simT), np.mean(getattr(model_spouse.sim, var), axis=0), label='Spouse')\n",
    "    ax.scatter(range(model_spouse_childcarecost.par.simT), np.mean(getattr(model_spouse_childcarecost.sim, var), axis=0), label='Spouse and childcare costs')\n",
    "    ax.scatter(range(model_spouse_rand.par.simT), np.mean(getattr(model_spouse_rand.sim, var), axis=0), label='Stochastic spouse and childcare costs')\n",
    "    ax.set(xlabel='period, t', ylabel=f'Avg. {var}', xticks=range(10))\n",
    "\n",
    "    # add subplot title\n",
    "    if var == 'c':\n",
    "        ax.set_title('(A): Avg. Consumption')\n",
    "        ax.legend()  \n",
    "    elif var == 'a':\n",
    "        ax.set_title('(B): Avg. Assets')\n",
    "    elif var == 'h':\n",
    "        ax.set_title('(C): Labor Supply (Intensive Margin)')\n",
    "    elif var == 'n':\n",
    "        ax.set_title('(D): Avg. Number of Children')\n",
    "\n",
    "# layout\n",
    "fig.tight_layout(pad=1)  # spacing between subplots\n",
    "\n",
    "if not os.path.exists(\"../plots\"):\n",
    "        os.makedirs(\"../plots\")\n",
    "    \n",
    "plt.savefig(\"../plots/RandomSpouseLifeCycle.pdf\", bbox_inches='tight')\n",
    "plt.show()"
   ]
  },
  {
   "cell_type": "markdown",
   "metadata": {},
   "source": [
    "## Marshallian Elasticities <a class=\"anchor\" id=\"sixthB-bullet\"></a>"
   ]
  },
  {
   "cell_type": "code",
   "execution_count": null,
   "metadata": {},
   "outputs": [],
   "source": [
    "fig = plt.figure(figsize=(3*6, 3*6/1.5))\n",
    "\n",
    "# plot Marshallian elasticity as a function of age for childless people in all periods\n",
    "ax = fig.add_subplot(3, 3, 1)\n",
    "ax.scatter(range(model_1pct.par.simT),np.mean(ela_total,axis=0),label='No spouse') \n",
    "ax.scatter(range(model_1pct_spouse.par.simT),np.mean(ela_total_spouse,axis=0),label='Spouse') \n",
    "ax.scatter(range(model_1pct_spouse_childcarecost.par.simT),np.mean(ela_total_spouse_childcarecost,axis=0),label='Spouse and childcare costs') \n",
    "ax.scatter(range(model_1pct_spouse_rand.par.simT),np.mean(ela_total_rand,axis=0),label='Random spouse and childcare costs') \n",
    "ax.set(xlabel='Age',ylabel='$e_{M,t}$',xticks=range(model.par.simT))\n",
    "ax.legend(frameon=True);\n",
    "\n",
    "# layout \n",
    "fig.tight_layout(pad=1); # spacing between \n",
    "\n",
    "if not os.path.exists(\"../plots\"):\n",
    "        os.makedirs(\"../plots\")\n",
    "    \n",
    "plt.savefig(\"../plots/RandomSpouseElasticity.pdf\", bbox_inches='tight')\n",
    "plt.show()"
   ]
  }
 ],
 "metadata": {
  "kernelspec": {
   "display_name": "Python 3 (ipykernel)",
   "language": "python",
   "name": "python3"
  },
  "language_info": {
   "codemirror_mode": {
    "name": "ipython",
    "version": 3
   },
   "file_extension": ".py",
   "mimetype": "text/x-python",
   "name": "python",
   "nbconvert_exporter": "python",
   "pygments_lexer": "ipython3",
   "version": "3.9.12"
  },
  "toc-autonumbering": true,
  "vscode": {
   "interpreter": {
    "hash": "2a1ca330d9582a7d9f549c991d1ebe88efa30325a2a9c927421566fc2176e6bd"
   }
  }
 },
 "nbformat": 4,
 "nbformat_minor": 4
}
