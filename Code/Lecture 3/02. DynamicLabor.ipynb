{
 "cells": [
  {
   "cell_type": "markdown",
   "id": "91cc6bc8",
   "metadata": {},
   "source": [
    "# Dynamic Labor Supply: 2-Period Model"
   ]
  },
  {
   "cell_type": "markdown",
   "id": "0ffb8997",
   "metadata": {},
   "source": [
    "## Setup"
   ]
  },
  {
   "cell_type": "code",
   "execution_count": 2,
   "id": "c3f8a1b8",
   "metadata": {},
   "outputs": [],
   "source": [
    "import numpy as np\n",
    "import matplotlib.pyplot as plt\n",
    "\n",
    "from scipy.optimize import minimize, NonlinearConstraint\n",
    "import warnings\n",
    "warnings.filterwarnings(\"ignore\", message=\"delta_grad == 0.0. Check if the approximated function is linear.\") # turn of annoying warning\n",
    "\n",
    "from consav.linear_interp import interp_1d"
   ]
  },
  {
   "cell_type": "markdown",
   "id": "c734c9fb",
   "metadata": {},
   "source": [
    "## Solution and Parameters"
   ]
  },
  {
   "cell_type": "code",
   "execution_count": 34,
   "id": "29f06288-faac-4f48-8bb2-36b497cb4fc9",
   "metadata": {},
   "outputs": [
    {
     "data": {
      "text/plain": [
       "(50,)"
      ]
     },
     "execution_count": 34,
     "metadata": {},
     "output_type": "execute_result"
    }
   ],
   "source": [
    "np.ones(np.linspace(-5,5100).size).shape"
   ]
  },
  {
   "cell_type": "code",
   "execution_count": 64,
   "id": "039d76c7-09ae-4d3f-b599-4f8c55c37fcc",
   "metadata": {},
   "outputs": [],
   "source": [
    "h2_vec = 2 + np.ones(par.b_grid.size)"
   ]
  },
  {
   "cell_type": "code",
   "execution_count": 65,
   "id": "a2d2d850-a9f9-4399-bfb5-33d8815001c9",
   "metadata": {},
   "outputs": [
    {
     "data": {
      "text/plain": [
       "array([3., 3., 3., 3., 3., 3., 3., 3., 3., 3., 3., 3., 3., 3., 3., 3., 3.,\n",
       "       3., 3., 3., 3., 3., 3., 3., 3., 3., 3., 3., 3., 3., 3., 3., 3., 3.,\n",
       "       3., 3., 3., 3., 3., 3., 3., 3., 3., 3., 3., 3., 3., 3., 3., 3., 3.,\n",
       "       3., 3., 3., 3., 3., 3., 3., 3., 3., 3., 3., 3., 3., 3., 3., 3., 3.,\n",
       "       3., 3., 3., 3., 3., 3., 3., 3., 3., 3., 3., 3., 3., 3., 3., 3., 3.,\n",
       "       3., 3., 3., 3., 3., 3., 3., 3., 3., 3., 3., 3., 3., 3., 3.])"
      ]
     },
     "execution_count": 65,
     "metadata": {},
     "output_type": "execute_result"
    }
   ],
   "source": [
    "h2_vec"
   ]
  },
  {
   "cell_type": "code",
   "execution_count": 66,
   "id": "9cedbe2b-2949-4af8-a188-a3acedd181ba",
   "metadata": {},
   "outputs": [
    {
     "data": {
      "text/plain": [
       "array(3.)"
      ]
     },
     "execution_count": 66,
     "metadata": {},
     "output_type": "execute_result"
    }
   ],
   "source": [
    "np.array(h2_vec[2-1])"
   ]
  },
  {
   "cell_type": "code",
   "execution_count": 68,
   "id": "9a157e48-1a79-4a70-8a0c-5ea183233b48",
   "metadata": {},
   "outputs": [
    {
     "data": {
      "text/plain": [
       "array(3.)"
      ]
     },
     "execution_count": 68,
     "metadata": {},
     "output_type": "execute_result"
    }
   ],
   "source": [
    "np.array(h2_vec[5-1])\n"
   ]
  },
  {
   "cell_type": "code",
   "execution_count": 69,
   "id": "11a77d2c",
   "metadata": {},
   "outputs": [],
   "source": [
    "# per-period utility\n",
    "def util(C,h,par): # now consumption is not necessarily equal to income and hence an input now\n",
    "    return (C**(1+par.eta))/(1+par.eta) - par.beta*(h**(1+par.gamma))/(1+par.gamma)\n",
    "\n",
    "def cons_period2(h2,w2,N2,b,par):\n",
    "    return (1.0-par.tau)*w2*h2 + N2 - (1+par.r)*b\n",
    "\n",
    "def value_of_choice1(C1,h1,w1,N1,V2,par):\n",
    "    \n",
    "    # current period utility\n",
    "    u1 = util(C1,h1,par)\n",
    "    \n",
    "    # implied borrowing\n",
    "    b = -((1.0-par.tau)*w1*h1 + N1 - C1)\n",
    "    \n",
    "    # next-period value given this level of b\n",
    "    V2_interp = interp_1d(par.b_grid,V2,b) # b grids points, V2 values at grid, and b is to be interpolated\n",
    "    \n",
    "    # discounted value\n",
    "    return u1 + par.rho*V2_interp\n",
    "\n",
    "# solution\n",
    "def solve(w1,w2,N1,N2,par):\n",
    "    \n",
    "    # last period\n",
    "    V2 = np.nan + np.ones(par.b_grid.size)\n",
    "    h2_vec = np.nan + np.ones(par.b_grid.size)\n",
    "    h2_init = np.array([20.0])\n",
    "    for ib,b in enumerate(par.b_grid):\n",
    "        obj2 = lambda h: -util(cons_period2(h,w2,N2,b,par) , h,par)\n",
    "        if ib>0: h2_init = np.array(h2_vec[ib-1]) # we use last found as our new initialize guess (pretty qualified guess)\n",
    "        \n",
    "        # constraints: ensure positive consumption\n",
    "        bounds = ((0.0,200.0),)\n",
    "        constr = lambda h: cons_period2(h,w2,N2,b,par) \n",
    "        nlc = NonlinearConstraint(constr, lb=0.0, ub=np.inf,keep_feasible=True) # lower bound is zero!\n",
    "        \n",
    "        res = minimize(obj2,h2_init,bounds=bounds,constraints=nlc,method='trust-constr')\n",
    "        h2_vec[ib] = res.x[0] # optimal hours for given level of borrowing\n",
    "        V2[ib] = -res.fun\n",
    "        \n",
    "        \n",
    "    # first period\n",
    "    obj1 = lambda x: -value_of_choice1(x[0],x[1],w1,N1,V2,par)\n",
    "    init = np.array([1.0,2.0])\n",
    "    bounds = ((0.0001,2000.0),(0.0,2000.0)) # not allowed to work zero hours\n",
    "\n",
    "    res = minimize(obj1,init,bounds=bounds,method='trust-constr')\n",
    "    C1 = res.x[0]\n",
    "    h1 = res.x[1]\n",
    "    V1 = -res.fun\n",
    "    \n",
    "    return C1,h1,h2_vec # h2_vec, entire vector of optimal labor supply in second period"
   ]
  },
  {
   "cell_type": "code",
   "execution_count": 70,
   "id": "5242f05f",
   "metadata": {},
   "outputs": [],
   "source": [
    "# parameters \n",
    "class par: pass\n",
    "par.beta = 0.1 # captures taste for leisure\n",
    "par.eta = -2.0 # governs income effect\n",
    "par.gamma = 2.5 # governs substitution effect\n",
    "par.tau = 0.1 # tax rate\n",
    "par.r = 0.02 # interest rate\n",
    "par.rho = 1/(1+par.r) # discount factor\n",
    "\n",
    "# grid of wealth\n",
    "par.b_grid = np.linspace(-5.0,5.0,100)"
   ]
  },
  {
   "cell_type": "markdown",
   "id": "ceebcb59",
   "metadata": {},
   "source": [
    "## Solve model"
   ]
  },
  {
   "cell_type": "code",
   "execution_count": 71,
   "id": "c5c9ae1a",
   "metadata": {},
   "outputs": [
    {
     "name": "stderr",
     "output_type": "stream",
     "text": [
      "/var/folders/3j/22yv_sj10t96slp1b8b6z1zw0000gn/T/ipykernel_38196/1430158084.py:3: RuntimeWarning: invalid value encountered in reciprocal\n",
      "  return (C**(1+par.eta))/(1+par.eta) - par.beta*(h**(1+par.gamma))/(1+par.gamma)\n"
     ]
    }
   ],
   "source": [
    "# find optimal labor supply for a given level of wages and non-labor income\n",
    "w1 = 1.0\n",
    "w2 = 1.0\n",
    "N1 = 0.0 # non-labor income. Important for strength of income effect\n",
    "N2 = 0.0 # non-labor income. Important for strength of income effect\n",
    "C1,h1,h2_vec = solve(w1,w2,N1,N2,par)"
   ]
  },
  {
   "cell_type": "code",
   "execution_count": 72,
   "id": "e6e4babd",
   "metadata": {},
   "outputs": [
    {
     "data": {
      "image/png": "[encoded data removed]",
      "text/plain": [
       "<Figure size 432x288 with 1 Axes>"
      ]
     },
     "metadata": {
      "needs_background": "light"
     },
     "output_type": "display_data"
    }
   ],
   "source": [
    "fig, ax = plt.subplots()\n",
    "ax.scatter(par.b_grid,h2_vec)\n",
    "ax.set(xlabel='borrowing, b',ylabel='Hours, $h^{\\star}_2$');"
   ]
  },
  {
   "cell_type": "markdown",
   "id": "ad8db4cb-d1be-4e18-af81-2e890b9395b3",
   "metadata": {},
   "source": [
    "- so we use point from previous b to make initial guess on next b!"
   ]
  },
  {
   "cell_type": "markdown",
   "id": "563c3a92",
   "metadata": {},
   "source": [
    "**Question 1:** Does the last-period optimal hours worked as a function of borrowing have an intuitive slope?"
   ]
  },
  {
   "cell_type": "markdown",
   "id": "cd88d6e7-be7c-49b9-9afe-2c5fb64506e3",
   "metadata": {},
   "source": [
    "- negative values of borrowing means I am net saver. Hence if I have saved wealth then hours are lower in the last period.\n",
    "- On the contrary, if i have borrowed a lot then I need to work a lot because I cannot die with debt"
   ]
  },
  {
   "cell_type": "markdown",
   "id": "301c3bcd",
   "metadata": {},
   "source": [
    "**Check consumption is constant**"
   ]
  },
  {
   "cell_type": "code",
   "execution_count": 73,
   "id": "806918ec",
   "metadata": {},
   "outputs": [
    {
     "name": "stdout",
     "output_type": "stream",
     "text": [
      "C1=1.537, C2=1.537\n"
     ]
    }
   ],
   "source": [
    "# consumption should be rather constant across periods for this parametrization\n",
    "b = -((1.0-par.tau)*w1*h1 + N1 - C1)\n",
    "h2 = interp_1d(par.b_grid,h2_vec,b) # for the above level of b what is optimal hours\n",
    "C2 = cons_period2(h2,w2,N2,b,par) # then what is consumption in last period\n",
    "print(f'C1={C1:2.3f}, C2={C2:2.3f}')"
   ]
  },
  {
   "cell_type": "markdown",
   "id": "fec4d4a2-bdbd-41f0-bbd5-e8648d189c34",
   "metadata": {},
   "source": [
    "- because discount factor and interest rates nets out"
   ]
  },
  {
   "cell_type": "markdown",
   "id": "128324f4",
   "metadata": {},
   "source": [
    "# Elasticities"
   ]
  },
  {
   "cell_type": "markdown",
   "id": "f2e944b3",
   "metadata": {},
   "source": [
    "**Marshall**"
   ]
  },
  {
   "cell_type": "code",
   "execution_count": 10,
   "id": "01924a77",
   "metadata": {},
   "outputs": [
    {
     "name": "stderr",
     "output_type": "stream",
     "text": [
      "/var/folders/3j/22yv_sj10t96slp1b8b6z1zw0000gn/T/ipykernel_38196/907068344.py:3: RuntimeWarning: invalid value encountered in reciprocal\n",
      "  return (C**(1+par.eta))/(1+par.eta) - par.beta*(h**(1+par.gamma))/(1+par.gamma)\n"
     ]
    },
    {
     "name": "stdout",
     "output_type": "stream",
     "text": [
      "Marshall: -0.222, Simulated: -0.221\n"
     ]
    }
   ],
   "source": [
    "# Marshall elasticity\n",
    "# theoretical (when rho=1/(1+r) and N1=N2=0)\n",
    "ela_M = (1+par.eta) / (par.gamma - par.eta)\n",
    "\n",
    "# simulate permanent increase (hence increase both first and second period)\n",
    "C1_,h1_1pct,h2_ = solve(w1*1.01,w2*1.01,N1,N2,par)\n",
    "ela_M1_sim = (h1_1pct-h1)/h1*100\n",
    "\n",
    "print(f'Marshall: {ela_M:2.3f}, Simulated: {ela_M1_sim:2.3f}')"
   ]
  },
  {
   "cell_type": "markdown",
   "id": "b84d5e34",
   "metadata": {},
   "source": [
    "**Frisch**"
   ]
  },
  {
   "cell_type": "code",
   "execution_count": 11,
   "id": "5caa0117",
   "metadata": {},
   "outputs": [
    {
     "name": "stderr",
     "output_type": "stream",
     "text": [
      "/var/folders/3j/22yv_sj10t96slp1b8b6z1zw0000gn/T/ipykernel_38196/907068344.py:3: RuntimeWarning: invalid value encountered in reciprocal\n",
      "  return (C**(1+par.eta))/(1+par.eta) - par.beta*(h**(1+par.gamma))/(1+par.gamma)\n"
     ]
    },
    {
     "name": "stdout",
     "output_type": "stream",
     "text": [
      "Frisch: 0.400, Simulated: 0.399\n"
     ]
    }
   ],
   "source": [
    "# Frisch elasticity\n",
    "ela_F = 1/par.gamma\n",
    "\n",
    "# simulate transitory increase in first period\n",
    "C1_,h1_F,h2_ = solve(w1*1.01,w2,N1,N2,par)\n",
    "ela_F1_sim = (h1_F-h1)/h1*100\n",
    "\n",
    "print(f'Frisch: {ela_F:2.3f}, Simulated: {ela_F1_sim:2.3f}')"
   ]
  },
  {
   "cell_type": "markdown",
   "id": "c6aa8d0a",
   "metadata": {},
   "source": [
    "## In-Class Exercise\n",
    "Include a 10 pct. risk of dying in period two with a value of zero. Compare the Frisch elasticity with the original one. Interpret the difference."
   ]
  },
  {
   "cell_type": "code",
   "execution_count": 12,
   "id": "b28a276c",
   "metadata": {},
   "outputs": [],
   "source": [
    "# solution\n",
    "def value_of_choice1_death(C1,h1,w1,N1,V2,par):\n",
    "    \n",
    "    # current period utility\n",
    "    u1 = util(C1,h1,par)\n",
    "    \n",
    "    # implied borrowing\n",
    "    b = -((1.0-par.tau)*w1*h1 + N1 - C1)\n",
    "    \n",
    "    # next-period value of this level of b and alive\n",
    "    V2_alive = interp_1d(par.b_grid,V2,b)\n",
    "    \n",
    "    # value if dead\n",
    "    V2_death = 0.0\n",
    "    \n",
    "    # expected value\n",
    "    EV2 = par.prob_death*V2_death + (1-par.prob_death)*V2_alive\n",
    "    \n",
    "    # discounted value\n",
    "    return u1 + par.rho*EV2\n",
    "\n",
    "def solve_death(w1,w2,N1,N2,par):\n",
    "    \n",
    "    # last period\n",
    "    V2 = np.nan + np.ones(par.b_grid.size)\n",
    "    h2_vec = np.nan + np.ones(par.b_grid.size)\n",
    "    h2_init = np.array([20.0])\n",
    "    for ib,b in enumerate(par.b_grid):\n",
    "        obj2 = lambda h: -util( cons_period2(h,w2,N2,b,par) , h,par)\n",
    "        if ib>0: h2_init = np.array(h2_vec[ib-1])\n",
    "        \n",
    "        # constraints: ensure positive consumption\n",
    "        bounds = ((0.0,200.0),)\n",
    "        constr = lambda h: cons_period2(h,w2,N2,b,par) \n",
    "        nlc = NonlinearConstraint(constr, lb=0.0, ub=np.inf,keep_feasible=True)\n",
    "        \n",
    "        res = minimize(obj2,h2_init,bounds=bounds,constraints=nlc,method='trust-constr')\n",
    "        h2_vec[ib] = res.x[0]\n",
    "        V2[ib] = -res.fun\n",
    "        \n",
    "        \n",
    "    # first period\n",
    "    obj1 = lambda x: -value_of_choice1_death(x[0],x[1],w1,N1,V2,par)\n",
    "    init = np.array([1.0,2.0])\n",
    "    bounds = ((0.0001,2000.0),(0.0,2000.0))\n",
    "\n",
    "    res = minimize(obj1,init,bounds=bounds,method='trust-constr')\n",
    "    C1 = res.x[0]\n",
    "    h1 = res.x[1]\n",
    "    V1 = -res.fun\n",
    "    \n",
    "    return C1,h1,h2_vec"
   ]
  },
  {
   "cell_type": "code",
   "execution_count": 13,
   "id": "2ade4af7",
   "metadata": {},
   "outputs": [
    {
     "name": "stderr",
     "output_type": "stream",
     "text": [
      "/var/folders/3j/22yv_sj10t96slp1b8b6z1zw0000gn/T/ipykernel_38196/907068344.py:3: RuntimeWarning: invalid value encountered in reciprocal\n",
      "  return (C**(1+par.eta))/(1+par.eta) - par.beta*(h**(1+par.gamma))/(1+par.gamma)\n"
     ]
    }
   ],
   "source": [
    "# solve\n",
    "par.prob_death = 0.1\n",
    "C1_death,h1_death,h2_vec_death = solve_death(w1,w2,N1,N2,par)"
   ]
  },
  {
   "cell_type": "code",
   "execution_count": 14,
   "id": "91c01685",
   "metadata": {},
   "outputs": [
    {
     "name": "stderr",
     "output_type": "stream",
     "text": [
      "/var/folders/3j/22yv_sj10t96slp1b8b6z1zw0000gn/T/ipykernel_38196/907068344.py:3: RuntimeWarning: invalid value encountered in reciprocal\n",
      "  return (C**(1+par.eta))/(1+par.eta) - par.beta*(h**(1+par.gamma))/(1+par.gamma)\n"
     ]
    },
    {
     "name": "stdout",
     "output_type": "stream",
     "text": [
      "Old Frisch: 0.400, New, with death: 0.090\n"
     ]
    }
   ],
   "source": [
    "# Frisch elasticity\n",
    "# simulate transitory increase in first period\n",
    "_,h1_death_F,_ = solve_death(w1*1.01,w2,N1,N2,par)\n",
    "ela_F1_death = (h1_death_F-h1_death)/h1_death*100\n",
    "\n",
    "print(f'Old Frisch: {ela_F:2.3f}, New, with death: {ela_F1_death:2.3f}')"
   ]
  },
  {
   "cell_type": "markdown",
   "id": "a4118ed2-6c62-473c-b739-79a0c50e74e2",
   "metadata": {},
   "source": [
    "- I might not be alive in future to reap benefit of working today. Hence frisch elasticity drops."
   ]
  }
 ],
 "metadata": {
  "kernelspec": {
   "display_name": "Python 3 (ipykernel)",
   "language": "python",
   "name": "python3"
  },
  "language_info": {
   "codemirror_mode": {
    "name": "ipython",
    "version": 3
   },
   "file_extension": ".py",
   "mimetype": "text/x-python",
   "name": "python",
   "nbconvert_exporter": "python",
   "pygments_lexer": "ipython3",
   "version": "3.9.12"
  }
 },
 "nbformat": 4,
 "nbformat_minor": 5
}
